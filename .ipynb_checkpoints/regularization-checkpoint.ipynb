{
 "cells": [
  {
   "cell_type": "code",
   "execution_count": 25,
   "metadata": {},
   "outputs": [],
   "source": [
    "import pandas as pd\n",
    "import matplotlib.pyplot as plt\n",
    "import numpy as np\n",
    "from sklearn.model_selection import train_test_split\n",
    "from sklearn.linear_model import Lasso,Ridge,ElasticNet\n",
    "from sklearn.metrics import mean_squared_error"
   ]
  },
  {
   "cell_type": "code",
   "execution_count": 13,
   "metadata": {},
   "outputs": [],
   "source": [
    "df=pd.read_csv('house.csv')"
   ]
  },
  {
   "cell_type": "code",
   "execution_count": 14,
   "metadata": {},
   "outputs": [],
   "source": [
    "df.columns=['CRIM','ZN','INDUS','CHAS','NOX','RM','AGE','DIS','RAD','TAX','PTRA','B','LSTAT','MEDV']"
   ]
  },
  {
   "cell_type": "code",
   "execution_count": 15,
   "metadata": {},
   "outputs": [
    {
     "name": "stdout",
     "output_type": "stream",
     "text": [
      "<bound method NDFrame.head of         CRIM   ZN  INDUS  CHAS    NOX     RM   AGE     DIS  RAD  TAX  PTRA  \\\n",
      "0    0.02731  0.0   7.07     0  0.469  6.421  78.9  4.9671    2  242  17.8   \n",
      "1    0.02729  0.0   7.07     0  0.469  7.185  61.1  4.9671    2  242  17.8   \n",
      "2    0.03237  0.0   2.18     0  0.458  6.998  45.8  6.0622    3  222  18.7   \n",
      "3    0.06905  0.0   2.18     0  0.458  7.147  54.2  6.0622    3  222  18.7   \n",
      "4    0.02985  0.0   2.18     0  0.458  6.430  58.7  6.0622    3  222  18.7   \n",
      "..       ...  ...    ...   ...    ...    ...   ...     ...  ...  ...   ...   \n",
      "500  0.06263  0.0  11.93     0  0.573  6.593  69.1  2.4786    1  273  21.0   \n",
      "501  0.04527  0.0  11.93     0  0.573  6.120  76.7  2.2875    1  273  21.0   \n",
      "502  0.06076  0.0  11.93     0  0.573  6.976  91.0  2.1675    1  273  21.0   \n",
      "503  0.10959  0.0  11.93     0  0.573  6.794  89.3  2.3889    1  273  21.0   \n",
      "504  0.04741  0.0  11.93     0  0.573  6.030  80.8  2.5050    1  273  21.0   \n",
      "\n",
      "          B  LSTAT  MEDV  \n",
      "0    396.90   9.14  21.6  \n",
      "1    392.83   4.03  34.7  \n",
      "2    394.63   2.94  33.4  \n",
      "3    396.90   5.33  36.2  \n",
      "4    394.12   5.21  28.7  \n",
      "..      ...    ...   ...  \n",
      "500  391.99   9.67  22.4  \n",
      "501  396.90   9.08  20.6  \n",
      "502  396.90   5.64  23.9  \n",
      "503  393.45   6.48  22.0  \n",
      "504  396.90   7.88  11.9  \n",
      "\n",
      "[505 rows x 14 columns]>\n"
     ]
    }
   ],
   "source": [
    "print(df.head)"
   ]
  },
  {
   "cell_type": "code",
   "execution_count": 16,
   "metadata": {},
   "outputs": [],
   "source": [
    "X=df.iloc[:,:-1].values\n",
    "y=df['MEDV'].values"
   ]
  },
  {
   "cell_type": "code",
   "execution_count": 17,
   "metadata": {},
   "outputs": [],
   "source": [
    "X_train, X_test, y_train, y_test = train_test_split(X, y, test_size=0.33, random_state=42)"
   ]
  },
  {
   "cell_type": "code",
   "execution_count": 18,
   "metadata": {},
   "outputs": [],
   "source": [
    "slr1=Lasso(alpha=0.1)"
   ]
  },
  {
   "cell_type": "code",
   "execution_count": 19,
   "metadata": {},
   "outputs": [
    {
     "data": {
      "text/plain": [
       "Lasso(alpha=0.1, copy_X=True, fit_intercept=True, max_iter=1000,\n",
       "      normalize=False, positive=False, precompute=False, random_state=None,\n",
       "      selection='cyclic', tol=0.0001, warm_start=False)"
      ]
     },
     "execution_count": 19,
     "metadata": {},
     "output_type": "execute_result"
    }
   ],
   "source": [
    "slr1.fit(X_train,y_train)"
   ]
  },
  {
   "cell_type": "code",
   "execution_count": 20,
   "metadata": {},
   "outputs": [],
   "source": [
    "y_train_pred=slr1.predict(X_train)\n",
    "y_test_pred=slr1.predict(X_test)"
   ]
  },
  {
   "cell_type": "code",
   "execution_count": 35,
   "metadata": {},
   "outputs": [],
   "source": [
    "t_train1=mean_squared_error(y_train,y_train_pred)\n",
    "t_test1=mean_squared_error(y_test,y_test_pred)"
   ]
  },
  {
   "cell_type": "code",
   "execution_count": 36,
   "metadata": {},
   "outputs": [
    {
     "name": "stdout",
     "output_type": "stream",
     "text": [
      "train MSE: 24.895909113944178 \n",
      " test MSE: 20.68301079662953\n"
     ]
    }
   ],
   "source": [
    "print(\"train MSE: {} \\n test MSE: {}\".format(t_train1,t_test1))"
   ]
  },
  {
   "cell_type": "code",
   "execution_count": 26,
   "metadata": {},
   "outputs": [],
   "source": [
    "slr2=Ridge(alpha=0.1)\n",
    "slr2.fit(X_train,y_train)\n",
    "y_train_pred=slr2.predict(X_train)\n",
    "y_test_pred=slr2.predict(X_test)"
   ]
  },
  {
   "cell_type": "code",
   "execution_count": 37,
   "metadata": {},
   "outputs": [],
   "source": [
    "t_train2=mean_squared_error(y_train,y_train_pred)\n",
    "t_test2=mean_squared_error(y_test,y_test_pred)"
   ]
  },
  {
   "cell_type": "code",
   "execution_count": 38,
   "metadata": {},
   "outputs": [
    {
     "name": "stdout",
     "output_type": "stream",
     "text": [
      "train MSE: 24.895909113944178 \n",
      " test MSE: 20.68301079662953\n"
     ]
    }
   ],
   "source": [
    "print(\"train MSE: {} \\n test MSE: {}\".format(t_train2,t_test2))"
   ]
  },
  {
   "cell_type": "code",
   "execution_count": 32,
   "metadata": {},
   "outputs": [],
   "source": [
    "slr3=ElasticNet(alpha=0.1,l1_ratio=0.3)\n",
    "slr3.fit(X_train,y_train)\n",
    "y_train_pred=slr3.predict(X_train)\n",
    "y_test_pred=slr3.predict(X_test)"
   ]
  },
  {
   "cell_type": "code",
   "execution_count": 39,
   "metadata": {},
   "outputs": [],
   "source": [
    "t_train3=mean_squared_error(y_train,y_train_pred)\n",
    "t_test3=mean_squared_error(y_test,y_test_pred)"
   ]
  },
  {
   "cell_type": "code",
   "execution_count": 40,
   "metadata": {},
   "outputs": [
    {
     "name": "stdout",
     "output_type": "stream",
     "text": [
      "train MSE: 24.895909113944178 \n",
      " test MSE: 20.68301079662953\n"
     ]
    }
   ],
   "source": [
    "print(\"train MSE: {} \\n test MSE: {}\".format(t_train,t_test))"
   ]
  },
  {
   "cell_type": "code",
   "execution_count": 42,
   "metadata": {},
   "outputs": [
    {
     "name": "stdout",
     "output_type": "stream",
     "text": [
      "lasso:\n",
      "train_mse=24.895909113944178\n",
      "test_mse=20.68301079662953\n",
      "ridge:\n",
      "train_mse=24.895909113944178\n",
      "test_mse=20.68301079662953\n",
      "elastic net:\n",
      "train_mse=24.895909113944178\n",
      "test_mse=20.68301079662953\n"
     ]
    }
   ],
   "source": [
    "print(\"lasso:\\ntrain_mse={}\\ntest_mse={}\\nridge:\\ntrain_mse={}\\ntest_mse={}\\nelastic net:\\ntrain_mse={}\\ntest_mse={}\".format(t_train1,t_test1,t_train2,t_test2,t_train3,t_test3))"
   ]
  },
  {
   "cell_type": "code",
   "execution_count": null,
   "metadata": {},
   "outputs": [],
   "source": []
  }
 ],
 "metadata": {
  "kernelspec": {
   "display_name": "Python 3",
   "language": "python",
   "name": "python3"
  },
  "language_info": {
   "codemirror_mode": {
    "name": "ipython",
    "version": 3
   },
   "file_extension": ".py",
   "mimetype": "text/x-python",
   "name": "python",
   "nbconvert_exporter": "python",
   "pygments_lexer": "ipython3",
   "version": "3.7.4"
  }
 },
 "nbformat": 4,
 "nbformat_minor": 2
}
