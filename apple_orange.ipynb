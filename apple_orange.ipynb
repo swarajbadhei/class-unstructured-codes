{
 "cells": [
  {
   "cell_type": "code",
   "execution_count": 1,
   "metadata": {},
   "outputs": [],
   "source": [
    "import numpy as np"
   ]
  },
  {
   "cell_type": "code",
   "execution_count": 20,
   "metadata": {},
   "outputs": [
    {
     "name": "stdout",
     "output_type": "stream",
     "text": [
      "enter whether shape is round or elliptical-:round\n",
      "enter whether it is rough or smooth-:rough\n",
      "enter its weight-:2\n",
      "it is orange\n"
     ]
    }
   ],
   "source": [
    "shape=input(\"enter whether shape is round or elliptical-:\")\n",
    "if shape=='elliptical':\n",
    "    x1=-1\n",
    "else:\n",
    "    x1=1\n",
    "texture=input(\"enter whether it is rough or smooth-:\")\n",
    "if texture=='rough':\n",
    "    x2=-1\n",
    "else:\n",
    "    x2=1\n",
    "weight=int(input(\"enter its weight-:\"))\n",
    "if weight>=1:\n",
    "    x3=1\n",
    "else:\n",
    "    x3=-1\n",
    "#array creation\n",
    "x=np.array([x1,x2,x3])\n",
    "w=np.array([-1,1,1])\n",
    "b=0\n",
    "#calculation\n",
    "r1=np.dot(x,w)+b\n",
    "if r1>=1:\n",
    "    print(\"its is apple\")\n",
    "else:\n",
    "    print(\"it is orange\")"
   ]
  },
  {
   "cell_type": "code",
   "execution_count": 4,
   "metadata": {},
   "outputs": [],
   "source": []
  },
  {
   "cell_type": "code",
   "execution_count": null,
   "metadata": {},
   "outputs": [],
   "source": []
  },
  {
   "cell_type": "code",
   "execution_count": null,
   "metadata": {},
   "outputs": [],
   "source": []
  },
  {
   "cell_type": "code",
   "execution_count": null,
   "metadata": {},
   "outputs": [],
   "source": []
  },
  {
   "cell_type": "code",
   "execution_count": null,
   "metadata": {},
   "outputs": [],
   "source": []
  },
  {
   "cell_type": "code",
   "execution_count": null,
   "metadata": {},
   "outputs": [],
   "source": []
  },
  {
   "cell_type": "code",
   "execution_count": null,
   "metadata": {},
   "outputs": [],
   "source": []
  }
 ],
 "metadata": {
  "kernelspec": {
   "display_name": "Python 3",
   "language": "python",
   "name": "python3"
  },
  "language_info": {
   "codemirror_mode": {
    "name": "ipython",
    "version": 3
   },
   "file_extension": ".py",
   "mimetype": "text/x-python",
   "name": "python",
   "nbconvert_exporter": "python",
   "pygments_lexer": "ipython3",
   "version": "3.7.4"
  }
 },
 "nbformat": 4,
 "nbformat_minor": 2
}
